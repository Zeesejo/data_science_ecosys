{
 "cells": [
  {
   "cell_type": "markdown",
   "id": "6ef7b422",
   "metadata": {},
   "source": [
    "# Data Science Tools and Ecosystem"
   ]
  },
  {
   "cell_type": "markdown",
   "id": "d71dae4c",
   "metadata": {},
   "source": [
    "In this notebook, Data Science Tools and Ecosystem are summarized."
   ]
  },
  {
   "cell_type": "markdown",
   "id": "2162c5f0",
   "metadata": {},
   "source": [
    "Some of the popular language that Data Scientist use are:\n"
   ]
  },
  {
   "cell_type": "code",
   "execution_count": 5,
   "id": "ae52d63e",
   "metadata": {},
   "outputs": [
    {
     "name": "stdout",
     "output_type": "stream",
     "text": [
      "ordered list:\n",
      "Python\n",
      "R\n",
      "SQL\n"
     ]
    }
   ],
   "source": [
    "print(\"ordered list:\\nPython\\nR\\nSQL\")"
   ]
  },
  {
   "cell_type": "markdown",
   "id": "77a34f0c",
   "metadata": {},
   "source": [
    "Some of the commonly used libraries used by Data Scientists include:\n"
   ]
  },
  {
   "cell_type": "code",
   "execution_count": 6,
   "id": "94ea1089",
   "metadata": {},
   "outputs": [
    {
     "name": "stdout",
     "output_type": "stream",
     "text": [
      "ordered list:\\Matplotlib\n",
      "Seaborn\n",
      "Numpy\n"
     ]
    }
   ],
   "source": [
    "print(\"ordered list:\\Matplotlib\\nSeaborn\\nNumpy\")"
   ]
  },
  {
   "cell_type": "markdown",
   "id": "cedde690",
   "metadata": {},
   "source": [
    "Data Sciene Tools:"
   ]
  },
  {
   "cell_type": "code",
   "execution_count": 9,
   "id": "75d88c38",
   "metadata": {},
   "outputs": [
    {
     "name": "stdout",
     "output_type": "stream",
     "text": [
      "Jupyter Notebook\n",
      " Google Colab\n"
     ]
    }
   ],
   "source": [
    "print(\"Jupyter Notebook\\n Google Colab\")"
   ]
  },
  {
   "cell_type": "markdown",
   "id": "fbb4b573-9c27-463c-97b7-02f6f9882c76",
   "metadata": {},
   "source": [
    "### Below are a few examples of evaluating arithmetic expressions in Python"
   ]
  },
  {
   "cell_type": "code",
   "execution_count": 1,
   "id": "9431fb5a-1d5b-44ec-a219-8064fd3be8a6",
   "metadata": {},
   "outputs": [
    {
     "name": "stdout",
     "output_type": "stream",
     "text": [
      "8\n",
      "8\n",
      "12\n",
      "5.0\n",
      "8\n",
      "1\n",
      "14\n",
      "3.3333333333333335\n",
      "3\n",
      "10\n"
     ]
    }
   ],
   "source": [
    "# Basic Arithmetic\n",
    "result = 5 + 3  # Addition\n",
    "print(result)  # Output: 8\n",
    "\n",
    "result = 12 - 4  # Subtraction\n",
    "print(result)  # Output: 8\n",
    "\n",
    "result = 6 * 2  # Multiplication\n",
    "print(result)  # Output: 12\n",
    "\n",
    "result = 20 / 4  # Division\n",
    "print(result)  # Output: 5.0\n",
    "\n",
    "# Exponents\n",
    "result = 2 ** 3  # 2 raised to the power of 3\n",
    "print(result)  # Output: 8\n",
    "\n",
    "# Modulo\n",
    "result = 10 % 3  # Remainder of 10 divided by 3\n",
    "print(result)  # Output: 1\n",
    "\n",
    "# Parentheses\n",
    "result = (4 + 3) * 2  # 4 + 3 is calculated first, then multiplied by 2\n",
    "print(result)  # Output: 14\n",
    "\n",
    "# Floating-Point Division vs. Integer Division\n",
    "result1 = 10 / 3  # Floating-point division\n",
    "print(result1)  # Output: 3.3333333333333335\n",
    "\n",
    "result2 = 10 // 3  # Integer division (floor division)\n",
    "print(result2)  # Output: 3\n",
    "\n",
    "# Precedence of Operators\n",
    "result = 4 + 3 * 2  # Multiplication is performed before addition\n",
    "print(result)  # Output: 10\n"
   ]
  },
  {
   "cell_type": "code",
   "execution_count": 2,
   "id": "c38921c6-0ecf-4b95-868c-ceb7d38d9323",
   "metadata": {
    "tags": []
   },
   "outputs": [
    {
     "name": "stdout",
     "output_type": "stream",
     "text": [
      "Result: 17\n"
     ]
    }
   ],
   "source": [
    "# This is a simple arithmetic expression to multiply then add integers\n",
    "result = (3 * 4) + 5\n",
    "\n",
    "# Print the result\n",
    "print(\"Result:\", result)\n"
   ]
  },
  {
   "cell_type": "code",
   "execution_count": 3,
   "id": "fc6f52a1-f097-4f82-9d18-f8618699479c",
   "metadata": {
    "tags": []
   },
   "outputs": [
    {
     "name": "stdout",
     "output_type": "stream",
     "text": [
      "200 minutes is equal to 3.3333333333333335 hours.\n"
     ]
    }
   ],
   "source": [
    "# This will convert 200 minutes to hours by dividing by 60.\n",
    "minutes = 200\n",
    "hours = minutes / 60\n",
    "\n",
    "# Print the result\n",
    "print(f\"{minutes} minutes is equal to {hours} hours.\")\n"
   ]
  },
  {
   "cell_type": "markdown",
   "id": "a5bee6a6-69f0-4381-856b-dbe0398c2af2",
   "metadata": {},
   "source": [
    "<b> Objectives of this course! <b>\n",
    "    <i> The popular Data Science languages: <i>\n",
    "        <li> Python</li><li> SQL</li><li> R</li><li> Julia</li>"
   ]
  },
  {
   "cell_type": "markdown",
   "id": "502b4719-b481-485b-b060-08d5f7ee1bf6",
   "metadata": {},
   "source": [
    "## Zeeshan Modi is the Author"
   ]
  }
 ],
 "metadata": {
  "kernelspec": {
   "display_name": "Python 3 (ipykernel)",
   "language": "python",
   "name": "python3"
  },
  "language_info": {
   "codemirror_mode": {
    "name": "ipython",
    "version": 3
   },
   "file_extension": ".py",
   "mimetype": "text/x-python",
   "name": "python",
   "nbconvert_exporter": "python",
   "pygments_lexer": "ipython3",
   "version": "3.11.5"
  }
 },
 "nbformat": 4,
 "nbformat_minor": 5
}
